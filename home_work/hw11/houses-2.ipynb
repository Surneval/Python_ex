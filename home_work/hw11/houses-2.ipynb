{
 "cells": [
  {
   "cell_type": "code",
   "execution_count": 3,
   "metadata": {},
   "outputs": [],
   "source": [
    "import pandas as pd"
   ]
  },
  {
   "cell_type": "code",
   "execution_count": 5,
   "metadata": {},
   "outputs": [],
   "source": [
    "df = pd.read_csv(r'C:\\Users\\nadez\\Downloads\\Telegram Desktop\\california_housing_test.csv')"
   ]
  },
  {
   "cell_type": "code",
   "execution_count": 7,
   "metadata": {},
   "outputs": [
    {
     "name": "stdout",
     "output_type": "stream",
     "text": [
      "190157.092\n"
     ]
    }
   ],
   "source": [
    "#Работать с файлом california_housing_train.csv, который находится в папке sample_data.\n",
    "#Определить среднюю стоимость дома, где кол-во людей от 0 до 500 (population)\n",
    "print(round(df.loc[df['population'] <= 500, 'median_house_value'].mean(), 3))"
   ]
  },
  {
   "cell_type": "code",
   "execution_count": 8,
   "metadata": {},
   "outputs": [
    {
     "data": {
      "text/plain": [
       "3.0"
      ]
     },
     "execution_count": 8,
     "metadata": {},
     "output_type": "execute_result"
    }
   ],
   "source": [
    "#Задача 42: Узнать какая максимальная households в зоне минимального значения population |\n",
    "round(df.loc[df['population'] == df['population'].min(), 'households'].max(), 3)"
   ]
  }
 ],
 "metadata": {
  "kernelspec": {
   "display_name": ".folder",
   "language": "python",
   "name": "python3"
  },
  "language_info": {
   "codemirror_mode": {
    "name": "ipython",
    "version": 3
   },
   "file_extension": ".py",
   "mimetype": "text/x-python",
   "name": "python",
   "nbconvert_exporter": "python",
   "pygments_lexer": "ipython3",
   "version": "3.9.13"
  },
  "orig_nbformat": 4,
  "vscode": {
   "interpreter": {
    "hash": "5fbd369896ad1def08c081a5b3749f29897f9e299d0857bc0dfaf7a048e112a6"
   }
  }
 },
 "nbformat": 4,
 "nbformat_minor": 2
}
